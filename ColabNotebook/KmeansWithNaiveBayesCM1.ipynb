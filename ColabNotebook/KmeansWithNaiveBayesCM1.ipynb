{
  "nbformat": 4,
  "nbformat_minor": 0,
  "metadata": {
    "colab": {
      "name": "KmeansWithNaiveBayes.ipynb",
      "provenance": [],
      "collapsed_sections": [],
      "toc_visible": true,
      "authorship_tag": "ABX9TyMd5bO2gYrx3R0POvME967U",
      "include_colab_link": true
    },
    "kernelspec": {
      "name": "python3",
      "display_name": "Python 3"
    },
    "language_info": {
      "name": "python"
    }
  },
  "cells": [
    {
      "cell_type": "markdown",
      "metadata": {
        "id": "view-in-github",
        "colab_type": "text"
      },
      "source": [
        "<a href=\"https://colab.research.google.com/github/ederquesado/kmeans/blob/master/KmeansWithNaiveBayesCM1.ipynb\" target=\"_parent\"><img src=\"https://colab.research.google.com/assets/colab-badge.svg\" alt=\"Open In Colab\"/></a>"
      ]
    },
    {
      "cell_type": "code",
      "metadata": {
        "id": "y2otRVXuJ9qf"
      },
      "source": [
        "import seaborn as sns\n",
        "import matplotlib.pyplot as plt\n",
        "import pandas as pd\n",
        "import numpy as np\n",
        "from sklearn.cluster import KMeans\n",
        "from scipy.io.arff import loadarff\n",
        "from sklearn.model_selection import train_test_split\n",
        "from sklearn.naive_bayes import GaussianNB\n",
        "from sklearn.model_selection import train_test_split, cross_validate, KFold,StratifiedKFold , cross_val_predict, cross_val_score\n",
        "from sklearn.metrics import classification_report, confusion_matrix, make_scorer, accuracy_score, precision_score, recall_score, f1_score\n",
        "from sklearn.neighbors import KNeighborsClassifier\n",
        "%matplotlib inline"
      ],
      "execution_count": 1,
      "outputs": []
    },
    {
      "cell_type": "code",
      "metadata": {
        "id": "EPNk-199aTsb"
      },
      "source": [
        "def normalizeData(dataset):    \n",
        "    max = list(dataset[0])\n",
        "    min = list(dataset[0])\n",
        "\n",
        "    for x in range(len(dataset)):\n",
        "        for y in range(len(dataset[x])-1):\n",
        "            if isinstance(dataset[x][y],float) == True:\n",
        "                if dataset[x][y] > max[y]:\n",
        "                    max[y] = dataset[x][y]\n",
        "                if dataset[x][y] < min[y]:\n",
        "                    min[y] = dataset[x][y]\n",
        "\n",
        "    for x in range(len(dataset)):\n",
        "        for y in range(len(dataset[x])-1):\n",
        "            if isinstance(dataset[x][y],float) == True:\n",
        "                dataset[x][y] = (dataset[x][y] - min[y])/ (max[y]-min[y])"
      ],
      "execution_count": 2,
      "outputs": []
    },
    {
      "cell_type": "code",
      "metadata": {
        "id": "GaQjhyT0Ol5M"
      },
      "source": [
        "data = loadarff('/content/cm1.arff')\n",
        "raw_data = pd.DataFrame(data[0]).values\n",
        "normalizeData(raw_data)\n",
        "dataset = np.asarray(raw_data)"
      ],
      "execution_count": 3,
      "outputs": []
    },
    {
      "cell_type": "code",
      "metadata": {
        "colab": {
          "base_uri": "https://localhost:8080/",
          "height": 282
        },
        "id": "fKthNsTMgu_w",
        "outputId": "d693390b-a0e3-47ef-ad16-24bd8947b30b"
      },
      "source": [
        "plt.scatter(dataset[:,0], dataset[:,1])"
      ],
      "execution_count": 4,
      "outputs": [
        {
          "output_type": "execute_result",
          "data": {
            "text/plain": [
              "<matplotlib.collections.PathCollection at 0x7ff536244250>"
            ]
          },
          "metadata": {
            "tags": []
          },
          "execution_count": 4
        },
        {
          "output_type": "display_data",
          "data": {
            "image/png": "[encoded data removed]",
            "text/plain": [
              "<Figure size 432x288 with 1 Axes>"
            ]
          },
          "metadata": {
            "tags": [],
            "needs_background": "light"
          }
        }
      ]
    },
    {
      "cell_type": "code",
      "metadata": {
        "id": "3TRch6Rqauwe"
      },
      "source": [
        "datasetKMeans = dataset[:,0:-1]"
      ],
      "execution_count": 5,
      "outputs": []
    },
    {
      "cell_type": "code",
      "metadata": {
        "id": "a3VvxdFgcwzs"
      },
      "source": [
        "from sklearn.metrics import silhouette_score"
      ],
      "execution_count": 6,
      "outputs": []
    },
    {
      "cell_type": "code",
      "metadata": {
        "id": "-l_CkFHecJ1h"
      },
      "source": [
        "sil = []\n",
        "kmax = 6\n",
        "\n",
        "# dissimilarity would not be defined for a single cluster, thus, minimum number of clusters should be 2\n",
        "for k in range(2, kmax+1):\n",
        "  kmeans = KMeans(n_clusters = k).fit(datasetKMeans)\n",
        "  labels = kmeans.labels_\n",
        "  sil.append(silhouette_score(datasetKMeans, labels, metric = 'euclidean'))"
      ],
      "execution_count": 7,
      "outputs": []
    },
    {
      "cell_type": "code",
      "metadata": {
        "colab": {
          "base_uri": "https://localhost:8080/"
        },
        "id": "7FNmjKOAM4QO",
        "outputId": "c4e29cdc-9441-4b21-9e00-a459949b2498"
      },
      "source": [
        "k=[2,3,4,5,6]\n",
        "sil.index(max(sil))\n",
        "k[sil.index(max(sil))]"
      ],
      "execution_count": 8,
      "outputs": [
        {
          "output_type": "execute_result",
          "data": {
            "text/plain": [
              "2"
            ]
          },
          "metadata": {
            "tags": []
          },
          "execution_count": 8
        }
      ]
    },
    {
      "cell_type": "code",
      "metadata": {
        "colab": {
          "base_uri": "https://localhost:8080/",
          "height": 497
        },
        "id": "zounI8g1czKp",
        "outputId": "1961b7f2-169b-400b-fa9d-c82bd3099615"
      },
      "source": [
        "plt.figure(figsize=(14,8))\n",
        "plt.plot(range(2,kmax+1),sil,color='blue',linestyle='dashed',marker='o')\n",
        "plt.xlabel('k')\n",
        "plt.ylabel('sill')\n",
        "plt.show()"
      ],
      "execution_count": 9,
      "outputs": [
        {
          "output_type": "display_data",
          "data": {
            "image/png": "[encoded data removed]",
            "text/plain": [
              "<Figure size 1008x576 with 1 Axes>"
            ]
          },
          "metadata": {
            "tags": [],
            "needs_background": "light"
          }
        }
      ]
    },
    {
      "cell_type": "code",
      "metadata": {
        "id": "3ZP0LX0mfRyF"
      },
      "source": [
        "def calculate_WSS(points, kmax):\n",
        "  sse = []\n",
        "  for k in range(2, kmax+1):\n",
        "    kmeans = KMeans(n_clusters = k).fit(points)\n",
        "    centroids = kmeans.cluster_centers_\n",
        "    pred_clusters = kmeans.predict(points)\n",
        "    curr_sse = 0\n",
        "    \n",
        "    # calculate square of Euclidean distance of each point from its cluster center and add to current WSS\n",
        "    for i in range(len(points)):\n",
        "      curr_center = centroids[pred_clusters[i]]\n",
        "      curr_sse += (points[i, 0] - curr_center[0]) ** 2 + (points[i, 1] - curr_center[1]) ** 2\n",
        "      \n",
        "    sse.append(curr_sse)\n",
        "  return sse"
      ],
      "execution_count": 10,
      "outputs": []
    },
    {
      "cell_type": "code",
      "metadata": {
        "id": "u2X1e6osfTpm"
      },
      "source": [
        "elbow = []\n",
        "elbow =calculate_WSS(datasetKMeans,6)"
      ],
      "execution_count": 11,
      "outputs": []
    },
    {
      "cell_type": "code",
      "metadata": {
        "colab": {
          "base_uri": "https://localhost:8080/"
        },
        "id": "g5Xem2WCfppO",
        "outputId": "fafbd832-b81e-41a1-ebf2-59e58c0fcb03"
      },
      "source": [
        "elbow"
      ],
      "execution_count": 12,
      "outputs": [
        {
          "output_type": "execute_result",
          "data": {
            "text/plain": [
              "[4.505421766588907,\n",
              " 2.3271667443182484,\n",
              " 1.3203405551539455,\n",
              " 1.1946622772027837,\n",
              " 1.220675114234765]"
            ]
          },
          "metadata": {
            "tags": []
          },
          "execution_count": 12
        }
      ]
    },
    {
      "cell_type": "code",
      "metadata": {
        "colab": {
          "base_uri": "https://localhost:8080/",
          "height": 497
        },
        "id": "7oEHdH95frKE",
        "outputId": "6cd2f76f-3405-46e9-c80f-7787d97cbae9"
      },
      "source": [
        "plt.figure(figsize=(14,8))\n",
        "plt.plot(range(2,7),elbow,color='blue',linestyle='dashed',marker='o')\n",
        "plt.xlabel('k')\n",
        "plt.ylabel('elbow')\n",
        "plt.show()"
      ],
      "execution_count": 13,
      "outputs": [
        {
          "output_type": "display_data",
          "data": {
            "image/png": "[encoded data removed]",
            "text/plain": [
              "<Figure size 1008x576 with 1 Axes>"
            ]
          },
          "metadata": {
            "tags": [],
            "needs_background": "light"
          }
        }
      ]
    },
    {
      "cell_type": "code",
      "metadata": {
        "id": "Nfga3xFtPaWE"
      },
      "source": [
        "kmeans = KMeans(n_clusters = k[sil.index(max(sil))]).fit(datasetKMeans)"
      ],
      "execution_count": 14,
      "outputs": []
    },
    {
      "cell_type": "code",
      "metadata": {
        "colab": {
          "base_uri": "https://localhost:8080/"
        },
        "id": "wZ75eh0RQMAC",
        "outputId": "e69c49e5-5aef-4a7b-df1c-0819589acbd6"
      },
      "source": [
        "k[sil.index(max(sil))]"
      ],
      "execution_count": 15,
      "outputs": [
        {
          "output_type": "execute_result",
          "data": {
            "text/plain": [
              "2"
            ]
          },
          "metadata": {
            "tags": []
          },
          "execution_count": 15
        }
      ]
    },
    {
      "cell_type": "code",
      "metadata": {
        "colab": {
          "base_uri": "https://localhost:8080/"
        },
        "id": "hxO4m6FtQDy-",
        "outputId": "b7c934a3-e230-4211-db08-cf3b5580e321"
      },
      "source": [
        "kmeans.labels_"
      ],
      "execution_count": 16,
      "outputs": [
        {
          "output_type": "execute_result",
          "data": {
            "text/plain": [
              "array([0, 0, 0, 0, 0, 0, 0, 0, 0, 0, 0, 0, 0, 0, 0, 0, 0, 0, 0, 0, 0, 0,\n",
              "       0, 0, 0, 0, 0, 0, 1, 1, 0, 1, 1, 0, 0, 0, 0, 0, 0, 0, 0, 0, 0, 0,\n",
              "       0, 0, 0, 0, 0, 0, 1, 0, 0, 0, 0, 0, 0, 0, 0, 0, 0, 0, 0, 0, 0, 0,\n",
              "       0, 0, 0, 0, 0, 0, 0, 0, 0, 0, 0, 0, 0, 0, 0, 0, 0, 0, 0, 0, 0, 0,\n",
              "       0, 0, 0, 0, 0, 0, 0, 0, 0, 0, 0, 0, 0, 0, 1, 0, 0, 0, 0, 0, 0, 0,\n",
              "       0, 0, 1, 1, 0, 0, 0, 0, 1, 1, 0, 1, 0, 0, 0, 0, 1, 0, 0, 0, 0, 0,\n",
              "       0, 0, 0, 0, 0, 0, 0, 1, 0, 0, 0, 0, 0, 0, 0, 0, 0, 0, 0, 0, 0, 0,\n",
              "       0, 0, 0, 1, 1, 0, 0, 0, 0, 0, 0, 0, 0, 0, 0, 0, 0, 0, 0, 0, 0, 0,\n",
              "       0, 0, 0, 0, 0, 0, 0, 0, 0, 0, 0, 0, 1, 0, 0, 0, 0, 0, 0, 0, 0, 0,\n",
              "       0, 0, 0, 0, 0, 0, 0, 0, 1, 0, 0, 0, 0, 1, 0, 0, 0, 0, 0, 0, 0, 0,\n",
              "       0, 0, 0, 0, 0, 1, 0, 0, 0, 0, 0, 0, 0, 0, 0, 0, 0, 0, 0, 0, 1, 1,\n",
              "       0, 0, 0, 0, 0, 0, 0, 0, 0, 0, 0, 1, 0, 1, 1, 0, 0, 0, 0, 0, 0, 0,\n",
              "       0, 0, 0, 0, 0, 0, 0, 0, 0, 1, 1, 0, 1, 0, 0, 0, 0, 0, 1, 1, 1, 1,\n",
              "       0, 0, 0, 0, 1, 1, 0, 0, 0, 0, 0, 0, 0, 0, 1, 0, 1, 0, 0, 0, 0, 0,\n",
              "       1, 0, 0, 0, 0, 0, 0, 0, 0, 0, 0, 0, 0, 0, 0, 0, 0, 0, 0, 0, 0, 0,\n",
              "       0, 0, 0, 1, 0, 0, 0, 0, 0, 0, 0, 0, 0, 0, 0, 1, 0, 0, 0, 0, 0, 0,\n",
              "       0, 0, 1, 0, 0, 1, 1, 0, 0, 1, 0, 0, 0, 1, 0, 0, 0, 0, 0, 1, 1, 0,\n",
              "       0, 0, 0, 0, 0, 0, 0, 0, 0, 0, 0, 0, 0, 0, 0, 0, 0, 0, 0, 0, 0, 0,\n",
              "       0, 0, 0, 0, 0, 0, 0, 0, 0, 0, 0, 0, 0, 0, 0, 0, 0, 0, 0, 0, 0, 0,\n",
              "       0, 0, 0, 0, 0, 0, 0, 0, 0, 0, 0, 0, 0, 0, 0, 0, 1, 0, 0, 0, 0, 0,\n",
              "       0, 0, 0, 0, 0, 0, 0, 0, 0, 0, 0, 0, 0, 0, 0, 1, 0, 1, 1, 0, 0, 1,\n",
              "       0, 1, 0, 1, 1, 1, 1, 0, 0, 0, 0, 0, 0, 0, 0, 0, 1, 0, 1, 0, 1, 0,\n",
              "       1, 0, 0, 0, 0, 0, 0, 0, 1, 0, 0, 1, 0, 0], dtype=int32)"
            ]
          },
          "metadata": {
            "tags": []
          },
          "execution_count": 16
        }
      ]
    },
    {
      "cell_type": "code",
      "metadata": {
        "id": "X7HH4M3oReFd"
      },
      "source": [
        "dataset2 =np.concatenate([datasetKMeans, kmeans.labels_[:,None]], axis=1)"
      ],
      "execution_count": 17,
      "outputs": []
    },
    {
      "cell_type": "code",
      "metadata": {
        "id": "R8Ts0dgaS4L2"
      },
      "source": [
        "dataframe = pd.DataFrame(dataset2)   "
      ],
      "execution_count": 18,
      "outputs": []
    },
    {
      "cell_type": "code",
      "metadata": {
        "colab": {
          "base_uri": "https://localhost:8080/",
          "height": 500
        },
        "id": "yPd-vMPVTHzT",
        "outputId": "215198de-7f64-46fa-9a9d-47b30a50b518"
      },
      "source": [
        "\n",
        "plt.figure(figsize=[12,8])\n",
        "plt.scatter(dataset2[:,0], dataset2[:,1], c=dataset2[:,-1], cmap='rainbow')"
      ],
      "execution_count": 19,
      "outputs": [
        {
          "output_type": "execute_result",
          "data": {
            "text/plain": [
              "<matplotlib.collections.PathCollection at 0x7ff52dccd910>"
            ]
          },
          "metadata": {
            "tags": []
          },
          "execution_count": 19
        },
        {
          "output_type": "display_data",
          "data": {
            "image/png": "[encoded data removed]",
            "text/plain": [
              "<Figure size 864x576 with 1 Axes>"
            ]
          },
          "metadata": {
            "tags": [],
            "needs_background": "light"
          }
        }
      ]
    },
    {
      "cell_type": "code",
      "metadata": {
        "id": "ceFuEAyDWSsO"
      },
      "source": [
        "X_train, X_test, y_train, y_test = train_test_split(datasetKMeans, kmeans.labels_, test_size=0.33, random_state=0)\n",
        "gnb = GaussianNB()\n",
        "y_pred = gnb.fit(X_train, y_train).predict(X_test)"
      ],
      "execution_count": 20,
      "outputs": []
    },
    {
      "cell_type": "code",
      "metadata": {
        "colab": {
          "base_uri": "https://localhost:8080/"
        },
        "id": "Ql8GLfWVXAk1",
        "outputId": "4a0c7926-3e6f-493a-f68a-f767d5087181"
      },
      "source": [
        "print(\"Number of mislabeled points out of a total %d points : %d\"% (X_test.shape[0], (y_test != y_pred).sum()))"
      ],
      "execution_count": 21,
      "outputs": [
        {
          "output_type": "stream",
          "text": [
            "Number of mislabeled points out of a total 165 points : 8\n"
          ],
          "name": "stdout"
        }
      ]
    },
    {
      "cell_type": "code",
      "metadata": {
        "colab": {
          "base_uri": "https://localhost:8080/"
        },
        "id": "ZBaIljjXZrNo",
        "outputId": "d153e0f3-3b36-4075-845f-b0c0fd193117"
      },
      "source": [
        "print(confusion_matrix(y_test, y_pred))"
      ],
      "execution_count": 22,
      "outputs": [
        {
          "output_type": "stream",
          "text": [
            "[[136   8]\n",
            " [  0  21]]\n"
          ],
          "name": "stdout"
        }
      ]
    },
    {
      "cell_type": "code",
      "metadata": {
        "colab": {
          "base_uri": "https://localhost:8080/"
        },
        "id": "RQH9BFAUhRqG",
        "outputId": "364ec5af-70eb-4763-d65c-79be92d80ee0"
      },
      "source": [
        "print(classification_report(y_test, y_pred))"
      ],
      "execution_count": 23,
      "outputs": [
        {
          "output_type": "stream",
          "text": [
            "              precision    recall  f1-score   support\n",
            "\n",
            "           0       1.00      0.94      0.97       144\n",
            "           1       0.72      1.00      0.84        21\n",
            "\n",
            "    accuracy                           0.95       165\n",
            "   macro avg       0.86      0.97      0.91       165\n",
            "weighted avg       0.96      0.95      0.95       165\n",
            "\n"
          ],
          "name": "stdout"
        }
      ]
    },
    {
      "cell_type": "code",
      "metadata": {
        "colab": {
          "base_uri": "https://localhost:8080/"
        },
        "id": "EZoZDX70hyMm",
        "outputId": "23cbab4b-ec57-4bc3-f90d-6ce906daf200"
      },
      "source": [
        "#--------------------------------------------------------------------------------------------------------------------\n",
        "#--------- Avaliação Naive Bayes Com Agrupamento\n",
        "n_splits = 10\n",
        "kf = StratifiedKFold(n_splits=n_splits, shuffle=True)\n",
        "cros_val = cross_validate(gnb, datasetKMeans, kmeans.labels_, cv=kf)\n",
        "cross_val_predicted = cross_val_predict(gnb, datasetKMeans, kmeans.labels_, cv=kf)\n",
        "cross_score_accuracy = cross_val_score(gnb, datasetKMeans,kmeans.labels_, cv=kf, scoring=make_scorer(accuracy_score))\n",
        "\n",
        "\n",
        "\n",
        "print(\"Accuracy of Model with Cross Validation is:\", cross_score_accuracy.mean() * 100)\n"
      ],
      "execution_count": 24,
      "outputs": [
        {
          "output_type": "stream",
          "text": [
            "Accuracy of Model with Cross Validation is: 93.97142857142858\n"
          ],
          "name": "stdout"
        }
      ]
    },
    {
      "cell_type": "code",
      "metadata": {
        "colab": {
          "base_uri": "https://localhost:8080/"
        },
        "id": "EC5RKa_mklYJ",
        "outputId": "f14c3ba8-fd18-4043-90c8-5d1d763608e2"
      },
      "source": [
        "conf_mat = confusion_matrix(kmeans.labels_, cross_val_predicted)\n",
        "conf_mat"
      ],
      "execution_count": 25,
      "outputs": [
        {
          "output_type": "execute_result",
          "data": {
            "text/plain": [
              "array([[408,  29],\n",
              "       [  0,  61]])"
            ]
          },
          "metadata": {
            "tags": []
          },
          "execution_count": 25
        }
      ]
    },
    {
      "cell_type": "code",
      "metadata": {
        "colab": {
          "base_uri": "https://localhost:8080/"
        },
        "id": "hBpubIsaowkv",
        "outputId": "a7ffc185-9f46-4f03-9821-047fca3f7f36"
      },
      "source": [
        "#--------------------------------------------------------------------------------------------------------------------\n",
        "#--------- Avaliação 1-nn\n",
        "XKNN = dataset[:,0:-1]\n",
        "YKKN = dataset[:,-1].astype(str)\n",
        "\n",
        "n_splits = 10\n",
        "\n",
        "kf = StratifiedKFold(n_splits=n_splits, shuffle=True)\n",
        "knn_cros_val = KNeighborsClassifier(n_neighbors=1, metric='euclidean')\n",
        "knn_cros_val.fit(X_train,y_train)\n",
        "#knn_cros_val.fit(XKNN, YKKN)\n",
        "cros_val = cross_validate(knn_cros_val, XKNN, YKKN, cv=kf)\n",
        "\n",
        "cross_val_predicted = cross_val_predict(knn_cros_val, XKNN, YKKN, cv=kf)\n",
        "conf_mat = confusion_matrix(YKKN, cross_val_predicted)\n",
        "conf_mat\n",
        "\n",
        "cross_score_accuracy = cross_val_score(knn_cros_val, XKNN, YKKN, cv=kf, scoring=make_scorer(accuracy_score))\n",
        "\n",
        "\n",
        "\n",
        "print(\"Accuracy of Model with Cross Validation is:\", cross_score_accuracy.mean() * 100)\n"
      ],
      "execution_count": 26,
      "outputs": [
        {
          "output_type": "stream",
          "text": [
            "Accuracy of Model with Cross Validation is: 85.14285714285714\n"
          ],
          "name": "stdout"
        }
      ]
    },
    {
      "cell_type": "code",
      "metadata": {
        "colab": {
          "base_uri": "https://localhost:8080/"
        },
        "id": "7Xn6217qrb3h",
        "outputId": "8b53f46d-7466-435f-c97d-57590ae1b3e4"
      },
      "source": [
        "#--------------------------------------------------------------------------------------------------------------------\n",
        "#--------- Avaliação Naive Bayes Sem Agrupamento\n",
        "XKNN = dataset[:,0:-1]\n",
        "YKKN = dataset[:,-1].astype(str)\n",
        "\n",
        "n_splits = 10\n",
        "\n",
        "kf = StratifiedKFold(n_splits=n_splits, shuffle=True)\n",
        "gnb = GaussianNB()\n",
        "gnb.fit(X_train,y_train)\n",
        "cros_val = cross_validate(gnb, XKNN, YKKN, cv=kf)\n",
        "\n",
        "cross_val_predicted = cross_val_predict(gnb, XKNN, YKKN, cv=kf)\n",
        "conf_mat = confusion_matrix(YKKN, cross_val_predicted)\n",
        "conf_mat\n",
        "\n",
        "cross_score_accuracy = cross_val_score(gnb, XKNN, YKKN, cv=kf, scoring=make_scorer(accuracy_score))\n",
        "\n",
        "\n",
        "\n",
        "print(\"Accuracy of Model with Cross Validation is:\", cross_score_accuracy.mean() * 100)"
      ],
      "execution_count": 27,
      "outputs": [
        {
          "output_type": "stream",
          "text": [
            "Accuracy of Model with Cross Validation is: 84.54285714285714\n"
          ],
          "name": "stdout"
        }
      ]
    }
  ]
}