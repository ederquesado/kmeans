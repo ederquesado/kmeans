{
  "nbformat": 4,
  "nbformat_minor": 0,
  "metadata": {
    "colab": {
      "name": "KmeansWithNaiveBayes.ipynb",
      "provenance": [],
      "collapsed_sections": [],
      "toc_visible": true,
      "authorship_tag": "ABX9TyO1yO0VdS1liUKYpU6nMzPj",
      "include_colab_link": true
    },
    "kernelspec": {
      "name": "python3",
      "display_name": "Python 3"
    },
    "language_info": {
      "name": "python"
    }
  },
  "cells": [
    {
      "cell_type": "markdown",
      "metadata": {
        "id": "view-in-github",
        "colab_type": "text"
      },
      "source": [
        "<a href=\"https://colab.research.google.com/github/ederquesado/kmeans/blob/master/KmeansWithNaiveBayesKC1.ipynb\" target=\"_parent\"><img src=\"https://colab.research.google.com/assets/colab-badge.svg\" alt=\"Open In Colab\"/></a>"
      ]
    },
    {
      "cell_type": "code",
      "metadata": {
        "id": "y2otRVXuJ9qf"
      },
      "source": [
        "import seaborn as sns\n",
        "import matplotlib.pyplot as plt\n",
        "import pandas as pd\n",
        "import numpy as np\n",
        "from sklearn.cluster import KMeans\n",
        "from scipy.io.arff import loadarff\n",
        "from sklearn.model_selection import train_test_split\n",
        "from sklearn.naive_bayes import GaussianNB\n",
        "from sklearn.model_selection import train_test_split, cross_validate, KFold,StratifiedKFold , cross_val_predict, cross_val_score\n",
        "from sklearn.metrics import classification_report, confusion_matrix, make_scorer, accuracy_score, precision_score, recall_score, f1_score\n",
        "from sklearn.neighbors import KNeighborsClassifier\n",
        "%matplotlib inline"
      ],
      "execution_count": 1,
      "outputs": []
    },
    {
      "cell_type": "code",
      "metadata": {
        "id": "EPNk-199aTsb"
      },
      "source": [
        "def normalizeData(dataset):    \n",
        "    max = list(dataset[0])\n",
        "    min = list(dataset[0])\n",
        "\n",
        "    for x in range(len(dataset)):\n",
        "        for y in range(len(dataset[x])-1):\n",
        "            if isinstance(dataset[x][y],float) == True:\n",
        "                if dataset[x][y] > max[y]:\n",
        "                    max[y] = dataset[x][y]\n",
        "                if dataset[x][y] < min[y]:\n",
        "                    min[y] = dataset[x][y]\n",
        "\n",
        "    for x in range(len(dataset)):\n",
        "        for y in range(len(dataset[x])-1):\n",
        "            if isinstance(dataset[x][y],float) == True:\n",
        "                dataset[x][y] = (dataset[x][y] - min[y])/ (max[y]-min[y])"
      ],
      "execution_count": 2,
      "outputs": []
    },
    {
      "cell_type": "code",
      "metadata": {
        "id": "GaQjhyT0Ol5M"
      },
      "source": [
        "data = loadarff('/content/kc1.arff')\n",
        "raw_data = pd.DataFrame(data[0]).values\n",
        "normalizeData(raw_data)\n",
        "dataset = np.asarray(raw_data)"
      ],
      "execution_count": 3,
      "outputs": []
    },
    {
      "cell_type": "code",
      "metadata": {
        "colab": {
          "base_uri": "https://localhost:8080/",
          "height": 282
        },
        "id": "fKthNsTMgu_w",
        "outputId": "d240b742-3783-4275-e011-02a5c534a985"
      },
      "source": [
        "plt.scatter(dataset[:,0], dataset[:,1])"
      ],
      "execution_count": 4,
      "outputs": [
        {
          "output_type": "execute_result",
          "data": {
            "text/plain": [
              "<matplotlib.collections.PathCollection at 0x7f3dc6f54f50>"
            ]
          },
          "metadata": {
            "tags": []
          },
          "execution_count": 4
        },
        {
          "output_type": "display_data",
          "data": {
            "image/png": "[encoded data removed]",
            "text/plain": [
              "<Figure size 432x288 with 1 Axes>"
            ]
          },
          "metadata": {
            "tags": [],
            "needs_background": "light"
          }
        }
      ]
    },
    {
      "cell_type": "code",
      "metadata": {
        "id": "3TRch6Rqauwe"
      },
      "source": [
        "datasetKMeans = dataset[:,0:-1]"
      ],
      "execution_count": 5,
      "outputs": []
    },
    {
      "cell_type": "code",
      "metadata": {
        "id": "a3VvxdFgcwzs"
      },
      "source": [
        "from sklearn.metrics import silhouette_score"
      ],
      "execution_count": 6,
      "outputs": []
    },
    {
      "cell_type": "code",
      "metadata": {
        "id": "-l_CkFHecJ1h"
      },
      "source": [
        "sil = []\n",
        "kmax = 6\n",
        "\n",
        "# dissimilarity would not be defined for a single cluster, thus, minimum number of clusters should be 2\n",
        "for k in range(2, kmax+1):\n",
        "  kmeans = KMeans(n_clusters = k).fit(datasetKMeans)\n",
        "  labels = kmeans.labels_\n",
        "  sil.append(silhouette_score(datasetKMeans, labels, metric = 'euclidean'))"
      ],
      "execution_count": 7,
      "outputs": []
    },
    {
      "cell_type": "code",
      "metadata": {
        "colab": {
          "base_uri": "https://localhost:8080/"
        },
        "id": "7FNmjKOAM4QO",
        "outputId": "7b902aa2-7303-4c65-a676-2017f401497b"
      },
      "source": [
        "k=[2,3,4,5,6]\n",
        "sil.index(max(sil))\n",
        "k[sil.index(max(sil))]"
      ],
      "execution_count": 8,
      "outputs": [
        {
          "output_type": "execute_result",
          "data": {
            "text/plain": [
              "2"
            ]
          },
          "metadata": {
            "tags": []
          },
          "execution_count": 8
        }
      ]
    },
    {
      "cell_type": "code",
      "metadata": {
        "colab": {
          "base_uri": "https://localhost:8080/",
          "height": 497
        },
        "id": "zounI8g1czKp",
        "outputId": "fd1e0bde-c4a7-4ca0-a4d8-c15f2cac38b2"
      },
      "source": [
        "plt.figure(figsize=(14,8))\n",
        "plt.plot(range(2,kmax+1),sil,color='blue',linestyle='dashed',marker='o')\n",
        "plt.xlabel('k')\n",
        "plt.ylabel('sill')\n",
        "plt.show()"
      ],
      "execution_count": 9,
      "outputs": [
        {
          "output_type": "display_data",
          "data": {
            "image/png": "[encoded data removed]",
            "text/plain": [
              "<Figure size 1008x576 with 1 Axes>"
            ]
          },
          "metadata": {
            "tags": [],
            "needs_background": "light"
          }
        }
      ]
    },
    {
      "cell_type": "code",
      "metadata": {
        "id": "3ZP0LX0mfRyF"
      },
      "source": [
        "def calculate_WSS(points, kmax):\n",
        "  sse = []\n",
        "  for k in range(2, kmax+1):\n",
        "    kmeans = KMeans(n_clusters = k).fit(points)\n",
        "    centroids = kmeans.cluster_centers_\n",
        "    pred_clusters = kmeans.predict(points)\n",
        "    curr_sse = 0\n",
        "    \n",
        "    # calculate square of Euclidean distance of each point from its cluster center and add to current WSS\n",
        "    for i in range(len(points)):\n",
        "      curr_center = centroids[pred_clusters[i]]\n",
        "      curr_sse += (points[i, 0] - curr_center[0]) ** 2 + (points[i, 1] - curr_center[1]) ** 2\n",
        "      \n",
        "    sse.append(curr_sse)\n",
        "  return sse"
      ],
      "execution_count": 10,
      "outputs": []
    },
    {
      "cell_type": "code",
      "metadata": {
        "id": "u2X1e6osfTpm"
      },
      "source": [
        "elbow = []\n",
        "elbow =calculate_WSS(datasetKMeans,6)"
      ],
      "execution_count": 11,
      "outputs": []
    },
    {
      "cell_type": "code",
      "metadata": {
        "colab": {
          "base_uri": "https://localhost:8080/"
        },
        "id": "g5Xem2WCfppO",
        "outputId": "555b2d4d-e391-4806-9a63-5a189787b1fe"
      },
      "source": [
        "elbow"
      ],
      "execution_count": 12,
      "outputs": [
        {
          "output_type": "execute_result",
          "data": {
            "text/plain": [
              "[15.767326546472406,\n",
              " 10.4952958742523,\n",
              " 8.193308979929531,\n",
              " 6.659129084559726,\n",
              " 5.528317166675366]"
            ]
          },
          "metadata": {
            "tags": []
          },
          "execution_count": 12
        }
      ]
    },
    {
      "cell_type": "code",
      "metadata": {
        "colab": {
          "base_uri": "https://localhost:8080/",
          "height": 497
        },
        "id": "7oEHdH95frKE",
        "outputId": "92a4fc82-bdf8-4faf-a767-c4217b69802a"
      },
      "source": [
        "plt.figure(figsize=(14,8))\n",
        "plt.plot(range(2,7),elbow,color='blue',linestyle='dashed',marker='o')\n",
        "plt.xlabel('k')\n",
        "plt.ylabel('elbow')\n",
        "plt.show()"
      ],
      "execution_count": 13,
      "outputs": [
        {
          "output_type": "display_data",
          "data": {
            "image/png": "[encoded data removed]",
            "text/plain": [
              "<Figure size 1008x576 with 1 Axes>"
            ]
          },
          "metadata": {
            "tags": [],
            "needs_background": "light"
          }
        }
      ]
    },
    {
      "cell_type": "code",
      "metadata": {
        "id": "Nfga3xFtPaWE"
      },
      "source": [
        "kmeans = KMeans(n_clusters = k[sil.index(max(sil))]).fit(datasetKMeans)"
      ],
      "execution_count": 14,
      "outputs": []
    },
    {
      "cell_type": "code",
      "metadata": {
        "colab": {
          "base_uri": "https://localhost:8080/"
        },
        "id": "wZ75eh0RQMAC",
        "outputId": "3a7d0909-eb75-4da9-acb8-4dc06381982c"
      },
      "source": [
        "k[sil.index(max(sil))]"
      ],
      "execution_count": 15,
      "outputs": [
        {
          "output_type": "execute_result",
          "data": {
            "text/plain": [
              "2"
            ]
          },
          "metadata": {
            "tags": []
          },
          "execution_count": 15
        }
      ]
    },
    {
      "cell_type": "code",
      "metadata": {
        "colab": {
          "base_uri": "https://localhost:8080/"
        },
        "id": "hxO4m6FtQDy-",
        "outputId": "9cb5825c-7e03-4d94-c62d-287a7338874e"
      },
      "source": [
        "kmeans.labels_"
      ],
      "execution_count": 16,
      "outputs": [
        {
          "output_type": "execute_result",
          "data": {
            "text/plain": [
              "array([0, 0, 1, ..., 0, 0, 0], dtype=int32)"
            ]
          },
          "metadata": {
            "tags": []
          },
          "execution_count": 16
        }
      ]
    },
    {
      "cell_type": "code",
      "metadata": {
        "id": "X7HH4M3oReFd"
      },
      "source": [
        "dataset2 =np.concatenate([datasetKMeans, kmeans.labels_[:,None]], axis=1)"
      ],
      "execution_count": 17,
      "outputs": []
    },
    {
      "cell_type": "code",
      "metadata": {
        "id": "R8Ts0dgaS4L2"
      },
      "source": [
        "dataframe = pd.DataFrame(dataset2)   "
      ],
      "execution_count": 18,
      "outputs": []
    },
    {
      "cell_type": "code",
      "metadata": {
        "colab": {
          "base_uri": "https://localhost:8080/",
          "height": 500
        },
        "id": "yPd-vMPVTHzT",
        "outputId": "8047f4b9-555e-4692-ce29-28c4585fec57"
      },
      "source": [
        "\n",
        "plt.figure(figsize=[12,8])\n",
        "plt.scatter(dataset2[:,0], dataset2[:,1], c=dataset2[:,-1], cmap='rainbow')"
      ],
      "execution_count": 19,
      "outputs": [
        {
          "output_type": "execute_result",
          "data": {
            "text/plain": [
              "<matplotlib.collections.PathCollection at 0x7f3dbe979b10>"
            ]
          },
          "metadata": {
            "tags": []
          },
          "execution_count": 19
        },
        {
          "output_type": "display_data",
          "data": {
            "image/png": "[encoded data removed]",
            "text/plain": [
              "<Figure size 864x576 with 1 Axes>"
            ]
          },
          "metadata": {
            "tags": [],
            "needs_background": "light"
          }
        }
      ]
    },
    {
      "cell_type": "code",
      "metadata": {
        "id": "ceFuEAyDWSsO"
      },
      "source": [
        "X_train, X_test, y_train, y_test = train_test_split(datasetKMeans, kmeans.labels_, test_size=0.33, random_state=0)\n",
        "gnb = GaussianNB()\n",
        "y_pred = gnb.fit(X_train, y_train).predict(X_test)"
      ],
      "execution_count": 20,
      "outputs": []
    },
    {
      "cell_type": "code",
      "metadata": {
        "colab": {
          "base_uri": "https://localhost:8080/"
        },
        "id": "Ql8GLfWVXAk1",
        "outputId": "f53f1f0a-0f80-4047-bd55-9357635f7e21"
      },
      "source": [
        "print(\"Number of mislabeled points out of a total %d points : %d\"% (X_test.shape[0], (y_test != y_pred).sum()))"
      ],
      "execution_count": 21,
      "outputs": [
        {
          "output_type": "stream",
          "text": [
            "Number of mislabeled points out of a total 696 points : 42\n"
          ],
          "name": "stdout"
        }
      ]
    },
    {
      "cell_type": "code",
      "metadata": {
        "colab": {
          "base_uri": "https://localhost:8080/"
        },
        "id": "ZBaIljjXZrNo",
        "outputId": "22b59cfa-9ec4-412a-e365-80fdb67be122"
      },
      "source": [
        "print(confusion_matrix(y_test, y_pred))"
      ],
      "execution_count": 22,
      "outputs": [
        {
          "output_type": "stream",
          "text": [
            "[[558  42]\n",
            " [  0  96]]\n"
          ],
          "name": "stdout"
        }
      ]
    },
    {
      "cell_type": "code",
      "metadata": {
        "colab": {
          "base_uri": "https://localhost:8080/"
        },
        "id": "RQH9BFAUhRqG",
        "outputId": "e8f084ea-0fa4-4c67-dc63-d3e37e89e522"
      },
      "source": [
        "print(classification_report(y_test, y_pred))"
      ],
      "execution_count": 23,
      "outputs": [
        {
          "output_type": "stream",
          "text": [
            "              precision    recall  f1-score   support\n",
            "\n",
            "           0       1.00      0.93      0.96       600\n",
            "           1       0.70      1.00      0.82        96\n",
            "\n",
            "    accuracy                           0.94       696\n",
            "   macro avg       0.85      0.97      0.89       696\n",
            "weighted avg       0.96      0.94      0.94       696\n",
            "\n"
          ],
          "name": "stdout"
        }
      ]
    },
    {
      "cell_type": "code",
      "metadata": {
        "colab": {
          "base_uri": "https://localhost:8080/"
        },
        "id": "EZoZDX70hyMm",
        "outputId": "6954f28d-43af-4abc-a5fc-0cf2d8ed4245"
      },
      "source": [
        "#--------------------------------------------------------------------------------------------------------------------\n",
        "#--------- Avaliação Naive Bayes Com Agrupamento\n",
        "n_splits = 10\n",
        "kf = StratifiedKFold(n_splits=n_splits, shuffle=True)\n",
        "cros_val = cross_validate(gnb, datasetKMeans, kmeans.labels_, cv=kf)\n",
        "cross_val_predicted = cross_val_predict(gnb, datasetKMeans, kmeans.labels_, cv=kf)\n",
        "cross_score_accuracy = cross_val_score(gnb, datasetKMeans,kmeans.labels_, cv=kf, scoring=make_scorer(accuracy_score))\n",
        "\n",
        "\n",
        "\n",
        "print(\"Accuracy of Model with Cross Validation is:\", cross_score_accuracy.mean() * 100)\n"
      ],
      "execution_count": 24,
      "outputs": [
        {
          "output_type": "stream",
          "text": [
            "Accuracy of Model with Cross Validation is: 94.49988715865493\n"
          ],
          "name": "stdout"
        }
      ]
    },
    {
      "cell_type": "code",
      "metadata": {
        "colab": {
          "base_uri": "https://localhost:8080/"
        },
        "id": "EC5RKa_mklYJ",
        "outputId": "04c0942f-0eec-4181-e777-7d243740b83f"
      },
      "source": [
        "conf_mat = confusion_matrix(kmeans.labels_, cross_val_predicted)\n",
        "conf_mat"
      ],
      "execution_count": 25,
      "outputs": [
        {
          "output_type": "execute_result",
          "data": {
            "text/plain": [
              "array([[1692,  119],\n",
              "       [   0,  298]])"
            ]
          },
          "metadata": {
            "tags": []
          },
          "execution_count": 25
        }
      ]
    },
    {
      "cell_type": "code",
      "metadata": {
        "colab": {
          "base_uri": "https://localhost:8080/"
        },
        "id": "hBpubIsaowkv",
        "outputId": "2fdbd143-404a-440a-9933-8c6d014f6765"
      },
      "source": [
        "#--------------------------------------------------------------------------------------------------------------------\n",
        "#--------- Avaliação 1-nn\n",
        "XKNN = dataset[:,0:-1]\n",
        "YKKN = dataset[:,-1].astype(str)\n",
        "\n",
        "n_splits = 10\n",
        "\n",
        "kf = StratifiedKFold(n_splits=n_splits, shuffle=True)\n",
        "knn_cros_val = KNeighborsClassifier(n_neighbors=1, metric='euclidean')\n",
        "knn_cros_val.fit(X_train,y_train)\n",
        "#knn_cros_val.fit(XKNN, YKKN)\n",
        "cros_val = cross_validate(knn_cros_val, XKNN, YKKN, cv=kf)\n",
        "\n",
        "cross_val_predicted = cross_val_predict(knn_cros_val, XKNN, YKKN, cv=kf)\n",
        "conf_mat = confusion_matrix(YKKN, cross_val_predicted)\n",
        "conf_mat\n",
        "\n",
        "cross_score_accuracy = cross_val_score(knn_cros_val, XKNN, YKKN, cv=kf, scoring=make_scorer(accuracy_score))\n",
        "\n",
        "\n",
        "\n",
        "print(\"Accuracy of Model with Cross Validation is:\", cross_score_accuracy.mean() * 100)\n"
      ],
      "execution_count": 26,
      "outputs": [
        {
          "output_type": "stream",
          "text": [
            "Accuracy of Model with Cross Validation is: 83.1665538253216\n"
          ],
          "name": "stdout"
        }
      ]
    },
    {
      "cell_type": "code",
      "metadata": {
        "colab": {
          "base_uri": "https://localhost:8080/"
        },
        "id": "7Xn6217qrb3h",
        "outputId": "eb58ab57-8f2b-4468-a89b-6e6b9473c679"
      },
      "source": [
        "#--------------------------------------------------------------------------------------------------------------------\n",
        "#--------- Avaliação Naive Bayes Sem Agrupamento\n",
        "XKNN = dataset[:,0:-1]\n",
        "YKKN = dataset[:,-1].astype(str)\n",
        "\n",
        "n_splits = 10\n",
        "\n",
        "kf = StratifiedKFold(n_splits=n_splits, shuffle=True)\n",
        "gnb = GaussianNB()\n",
        "gnb.fit(X_train,y_train)\n",
        "cros_val = cross_validate(gnb, XKNN, YKKN, cv=kf)\n",
        "\n",
        "cross_val_predicted = cross_val_predict(gnb, XKNN, YKKN, cv=kf)\n",
        "conf_mat = confusion_matrix(YKKN, cross_val_predicted)\n",
        "conf_mat\n",
        "\n",
        "cross_score_accuracy = cross_val_score(gnb, XKNN, YKKN, cv=kf, scoring=make_scorer(accuracy_score))\n",
        "\n",
        "\n",
        "\n",
        "print(\"Accuracy of Model with Cross Validation is:\", cross_score_accuracy.mean() * 100)"
      ],
      "execution_count": 27,
      "outputs": [
        {
          "output_type": "stream",
          "text": [
            "Accuracy of Model with Cross Validation is: 82.40916271721959\n"
          ],
          "name": "stdout"
        }
      ]
    }
  ]
}